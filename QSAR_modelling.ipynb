{
 "cells": [
  {
   "attachments": {},
   "cell_type": "markdown",
   "metadata": {},
   "source": [
    "# Install QSPRpred"
   ]
  },
  {
   "cell_type": "code",
   "execution_count": null,
   "metadata": {},
   "outputs": [],
   "source": [
    "%pip install git+https://github.com/CDDLeiden/QSPRPred.git@main\n",
    "%pip install git+https://github.com/CDDLeiden/papyrus-scaffold-visualizer.git@dev\n",
    "%pip install seaborn"
   ]
  },
  {
   "attachments": {},
   "cell_type": "markdown",
   "metadata": {},
   "source": [
    "# Create your dataset"
   ]
  },
  {
   "attachments": {},
   "cell_type": "markdown",
   "metadata": {},
   "source": [
    "## Fetching data from Papyrus"
   ]
  },
  {
   "cell_type": "code",
   "execution_count": 43,
   "metadata": {},
   "outputs": [
    {
     "name": "stdout",
     "output_type": "stream",
     "text": [
      "Number of files to be downloaded: 10\n",
      "Total size: 8.18GB\n"
     ]
    },
    {
     "data": {
      "application/vnd.jupyter.widget-view+json": {
       "model_id": "37c80f127ace4241890afcc250ba85e2",
       "version_major": 2,
       "version_minor": 0
      },
      "text/plain": [
       "Downloading version 05.6:   0%|          | 0.00/8.18G [00:00<?, ?B/s]"
      ]
     },
     "metadata": {},
     "output_type": "display_data"
    },
    {
     "name": "stdout",
     "output_type": "stream",
     "text": [
      "Reading data from data...\n",
      "Read all data.\n",
      "Initialized filters.\n"
     ]
    },
    {
     "data": {
      "application/vnd.jupyter.widget-view+json": {
       "model_id": "6fa6a18379ac4ddf9dd6bf45030c6a8d",
       "version_major": 2,
       "version_minor": 0
      },
      "text/plain": [
       "0it [00:00, ?it/s]"
      ]
     },
     "metadata": {},
     "output_type": "display_data"
    },
    {
     "name": "stdout",
     "output_type": "stream",
     "text": [
      "Number of compounds:8364\n",
      "Wrote data to file 'data\\papyrus_data.tsv'.\n"
     ]
    },
    {
     "data": {
      "text/plain": [
       "<qsprpred.data.data.MoleculeTable at 0x19757375d50>"
      ]
     },
     "execution_count": 43,
     "metadata": {},
     "output_type": "execute_result"
    }
   ],
   "source": [
    "### SKIP THIS CELL ###\n",
    "\n",
    "from qsprpred.data.sources.papyrus import Papyrus\n",
    "\n",
    "acc_keys = [\"P49840\", \"P36897\", \"Q13464\", \"P22455\", \"P21802\"] # Specify the protein accession key(s) of your target(s) of interest\n",
    "dataset_name = \"papyrus_data\"  # name of the file to be generated\n",
    "quality = \"low\"  # choose minimum quality from {\"high\", \"medium\", \"low\"}\n",
    "papyrus_version = '05.6'  # Papyrus database version\n",
    "data_dir = \"data\"\n",
    "\n",
    "papyrus = Papyrus(\n",
    "    data_dir=data_dir,\n",
    "    version=papyrus_version,\n",
    "    stereo=False,\n",
    "    plus_only=False, # Set to False to include lower quality data\n",
    ")\n",
    "\n",
    "mt = papyrus.getData(\n",
    "    acc_keys,\n",
    "    quality,\n",
    "    name=dataset_name,\n",
    "    use_existing=True,\n",
    "    activity_types=[\"Ki\", \"IC50\", \"Kd\", \"EC50\"]\n",
    ")\n",
    "mt"
   ]
  },
  {
   "cell_type": "code",
   "execution_count": 1,
   "metadata": {},
   "outputs": [
    {
     "name": "stderr",
     "output_type": "stream",
     "text": [
      "c:\\Users\\helle\\anaconda3\\envs\\ulla2023\\Lib\\site-packages\\qsprpred\\data\\data.py:552: UserWarning: Existing data set found, but also found a data frame in store. Refusing to overwrite data. If you want to overwrite data in store, set overwrite=True.\n",
      "  super().__init__(name, df, store_dir, overwrite, index_cols, n_jobs, chunk_size)\n"
     ]
    },
    {
     "data": {
      "text/html": [
       "<div>\n",
       "<style scoped>\n",
       "    .dataframe tbody tr th:only-of-type {\n",
       "        vertical-align: middle;\n",
       "    }\n",
       "\n",
       "    .dataframe tbody tr th {\n",
       "        vertical-align: top;\n",
       "    }\n",
       "\n",
       "    .dataframe thead th {\n",
       "        text-align: right;\n",
       "    }\n",
       "</style>\n",
       "<table border=\"1\" class=\"dataframe\">\n",
       "  <thead>\n",
       "    <tr style=\"text-align: right;\">\n",
       "      <th></th>\n",
       "      <th>Activity_ID</th>\n",
       "      <th>Quality</th>\n",
       "      <th>source</th>\n",
       "      <th>CID</th>\n",
       "      <th>SMILES</th>\n",
       "      <th>connectivity</th>\n",
       "      <th>InChIKey</th>\n",
       "      <th>InChI</th>\n",
       "      <th>InChI_AuxInfo</th>\n",
       "      <th>target_id</th>\n",
       "      <th>...</th>\n",
       "      <th>relation</th>\n",
       "      <th>pchembl_value</th>\n",
       "      <th>pchembl_value_Mean</th>\n",
       "      <th>pchembl_value_StdDev</th>\n",
       "      <th>pchembl_value_SEM</th>\n",
       "      <th>pchembl_value_N</th>\n",
       "      <th>pchembl_value_Median</th>\n",
       "      <th>pchembl_value_MAD</th>\n",
       "      <th>QSPRID</th>\n",
       "      <th>Split_IsTrain</th>\n",
       "    </tr>\n",
       "    <tr>\n",
       "      <th>QSPRID</th>\n",
       "      <th></th>\n",
       "      <th></th>\n",
       "      <th></th>\n",
       "      <th></th>\n",
       "      <th></th>\n",
       "      <th></th>\n",
       "      <th></th>\n",
       "      <th></th>\n",
       "      <th></th>\n",
       "      <th></th>\n",
       "      <th></th>\n",
       "      <th></th>\n",
       "      <th></th>\n",
       "      <th></th>\n",
       "      <th></th>\n",
       "      <th></th>\n",
       "      <th></th>\n",
       "      <th></th>\n",
       "      <th></th>\n",
       "      <th></th>\n",
       "      <th></th>\n",
       "    </tr>\n",
       "  </thead>\n",
       "  <tbody>\n",
       "    <tr>\n",
       "      <th>P49840_0</th>\n",
       "      <td>AAMDUWSPNAKRLV_on_P49840_WT</td>\n",
       "      <td>High</td>\n",
       "      <td>Christmann2016</td>\n",
       "      <td>Christmann2016.compound.814</td>\n",
       "      <td>NC(=O)c1ccc2nc(-c3ccc([N+]([O])=O)o3)cn2c1</td>\n",
       "      <td>AAMDUWSPNAKRLV</td>\n",
       "      <td>AAMDUWSPNAKRLV-UHFFFAOYSA-N</td>\n",
       "      <td>InChI=1S/C12H8N4O4/c13-12(17)7-1-3-10-14-8(6-1...</td>\n",
       "      <td>\"AuxInfo=1/1/N:20,10,19,11,5,7,4,8,9,18,12,2,1...</td>\n",
       "      <td>P49840_WT</td>\n",
       "      <td>...</td>\n",
       "      <td>=</td>\n",
       "      <td>6.000</td>\n",
       "      <td>6.00</td>\n",
       "      <td>0.0</td>\n",
       "      <td>0.0</td>\n",
       "      <td>1.0</td>\n",
       "      <td>6.00</td>\n",
       "      <td>0.0</td>\n",
       "      <td>P49840_0</td>\n",
       "      <td>True</td>\n",
       "    </tr>\n",
       "    <tr>\n",
       "      <th>P49840_1</th>\n",
       "      <td>ACWKGTGIJRCOOM_on_P49840_WT</td>\n",
       "      <td>High</td>\n",
       "      <td>ChEMBL31</td>\n",
       "      <td>ChEMBL31.compound.398297</td>\n",
       "      <td>COc1cc(F)ccc1-c1ncnc(Nc2cccc(CS(C)(=N)=O)c2)n1</td>\n",
       "      <td>ACWKGTGIJRCOOM</td>\n",
       "      <td>ACWKGTGIJRCOOM-UHFFFAOYSA-N</td>\n",
       "      <td>InChI=1S/C18H18FN5O2S/c1-26-16-9-13(19)6-7-15(...</td>\n",
       "      <td>\"AuxInfo=1/1/N:1,23,18,19,17,7,8,26,4,21,12,20...</td>\n",
       "      <td>P49840_WT</td>\n",
       "      <td>...</td>\n",
       "      <td>=</td>\n",
       "      <td>7.350</td>\n",
       "      <td>7.35</td>\n",
       "      <td>0.0</td>\n",
       "      <td>0.0</td>\n",
       "      <td>1.0</td>\n",
       "      <td>7.35</td>\n",
       "      <td>0.0</td>\n",
       "      <td>P49840_1</td>\n",
       "      <td>False</td>\n",
       "    </tr>\n",
       "    <tr>\n",
       "      <th>P49840_2</th>\n",
       "      <td>ADDQXEDWJOPRKR_on_P49840_WT</td>\n",
       "      <td>High</td>\n",
       "      <td>Christmann2016</td>\n",
       "      <td>Christmann2016.compound.1070</td>\n",
       "      <td>CN(C)c1ccc(NC(=O)CC2Nc3ccccc3NC2=O)cc1</td>\n",
       "      <td>ADDQXEDWJOPRKR</td>\n",
       "      <td>ADDQXEDWJOPRKR-UHFFFAOYSA-N</td>\n",
       "      <td>InChI=1S/C18H20N4O2/c1-22(2)13-9-7-12(8-10-13)...</td>\n",
       "      <td>\"AuxInfo=1/1/N:1,3,18,17,19,16,6,23,5,24,11,7,...</td>\n",
       "      <td>P49840_WT</td>\n",
       "      <td>...</td>\n",
       "      <td>=</td>\n",
       "      <td>5.400</td>\n",
       "      <td>5.40</td>\n",
       "      <td>0.0</td>\n",
       "      <td>0.0</td>\n",
       "      <td>1.0</td>\n",
       "      <td>5.40</td>\n",
       "      <td>0.0</td>\n",
       "      <td>P49840_2</td>\n",
       "      <td>False</td>\n",
       "    </tr>\n",
       "    <tr>\n",
       "      <th>P49840_3</th>\n",
       "      <td>AFZIRKJTSPMVSW_on_P49840_WT</td>\n",
       "      <td>High</td>\n",
       "      <td>ChEMBL31</td>\n",
       "      <td>ChEMBL31.compound.420064</td>\n",
       "      <td>O=C(Nc1cc(-c2nc(Cc3ccccc3)[nH]c2-c2ccc(F)cc2)c...</td>\n",
       "      <td>AFZIRKJTSPMVSW</td>\n",
       "      <td>AFZIRKJTSPMVSW-UHFFFAOYSA-N</td>\n",
       "      <td>InChI=1S/C25H21FN4O/c26-20-10-8-17(9-11-20)23-...</td>\n",
       "      <td>\"AuxInfo=1/1/N:22,21,23,20,24,30,31,10,15,11,1...</td>\n",
       "      <td>P49840_WT</td>\n",
       "      <td>...</td>\n",
       "      <td>=</td>\n",
       "      <td>6.370</td>\n",
       "      <td>6.37</td>\n",
       "      <td>0.0</td>\n",
       "      <td>0.0</td>\n",
       "      <td>1.0</td>\n",
       "      <td>6.37</td>\n",
       "      <td>0.0</td>\n",
       "      <td>P49840_3</td>\n",
       "      <td>True</td>\n",
       "    </tr>\n",
       "    <tr>\n",
       "      <th>P49840_4</th>\n",
       "      <td>AMQWJXRKJIUZAW_on_P49840_WT</td>\n",
       "      <td>High</td>\n",
       "      <td>ChEMBL31</td>\n",
       "      <td>ChEMBL31.compound.405770</td>\n",
       "      <td>Cc1ccc(-c2ccc(C=C3SC(N)=NC3=O)o2)c([N+](=O)[O-...</td>\n",
       "      <td>AMQWJXRKJIUZAW</td>\n",
       "      <td>AMQWJXRKJIUZAW-UHFFFAOYSA-N</td>\n",
       "      <td>InChI=1S/C15H11N3O4S/c1-8-2-4-10(11(6-8)18(20)...</td>\n",
       "      <td>\"AuxInfo=1/1/N:1,3,8,4,7,23,10,2,9,5,19,6,11,1...</td>\n",
       "      <td>P49840_WT</td>\n",
       "      <td>...</td>\n",
       "      <td>=</td>\n",
       "      <td>6.790</td>\n",
       "      <td>6.79</td>\n",
       "      <td>0.0</td>\n",
       "      <td>0.0</td>\n",
       "      <td>1.0</td>\n",
       "      <td>6.79</td>\n",
       "      <td>0.0</td>\n",
       "      <td>P49840_4</td>\n",
       "      <td>True</td>\n",
       "    </tr>\n",
       "    <tr>\n",
       "      <th>...</th>\n",
       "      <td>...</td>\n",
       "      <td>...</td>\n",
       "      <td>...</td>\n",
       "      <td>...</td>\n",
       "      <td>...</td>\n",
       "      <td>...</td>\n",
       "      <td>...</td>\n",
       "      <td>...</td>\n",
       "      <td>...</td>\n",
       "      <td>...</td>\n",
       "      <td>...</td>\n",
       "      <td>...</td>\n",
       "      <td>...</td>\n",
       "      <td>...</td>\n",
       "      <td>...</td>\n",
       "      <td>...</td>\n",
       "      <td>...</td>\n",
       "      <td>...</td>\n",
       "      <td>...</td>\n",
       "      <td>...</td>\n",
       "      <td>...</td>\n",
       "    </tr>\n",
       "    <tr>\n",
       "      <th>P49840_1105</th>\n",
       "      <td>ZYDQWWRARYHYHC_on_P49840_WT</td>\n",
       "      <td>High</td>\n",
       "      <td>ChEMBL31</td>\n",
       "      <td>ChEMBL31.compound.214071</td>\n",
       "      <td>COc1ccc(-c2ccc(CSc3nnc(-c4ccc5c(c4)OCCO5)o3)cc...</td>\n",
       "      <td>ZYDQWWRARYHYHC</td>\n",
       "      <td>ZYDQWWRARYHYHC-UHFFFAOYSA-N</td>\n",
       "      <td>InChI=1S/C24H20N2O4S/c1-27-20-9-6-18(7-10-20)1...</td>\n",
       "      <td>\"AuxInfo=1/0/N:1,9,28,8,29,5,30,18,4,31,19,22,...</td>\n",
       "      <td>P49840_WT</td>\n",
       "      <td>...</td>\n",
       "      <td>=</td>\n",
       "      <td>7.72</td>\n",
       "      <td>7.72</td>\n",
       "      <td>0.0</td>\n",
       "      <td>0.0</td>\n",
       "      <td>1.0</td>\n",
       "      <td>7.72</td>\n",
       "      <td>0.0</td>\n",
       "      <td>P49840_1105</td>\n",
       "      <td>True</td>\n",
       "    </tr>\n",
       "    <tr>\n",
       "      <th>P49840_1106</th>\n",
       "      <td>ZYTFPHRVOZXPGZ_on_P49840_WT</td>\n",
       "      <td>High</td>\n",
       "      <td>Christmann2016</td>\n",
       "      <td>Christmann2016.compound.223</td>\n",
       "      <td>Cc1[nH]nc2ccc(-c3cncc(OCCN)c3)cc12</td>\n",
       "      <td>ZYTFPHRVOZXPGZ</td>\n",
       "      <td>ZYTFPHRVOZXPGZ-UHFFFAOYSA-N</td>\n",
       "      <td>InChI=1S/C15H16N4O/c1-10-14-7-11(2-3-15(14)19-...</td>\n",
       "      <td>\"AuxInfo=1/1/N:1,16,17,11,10,7,4,15,13,2,5,6,8...</td>\n",
       "      <td>P49840_WT</td>\n",
       "      <td>...</td>\n",
       "      <td>=</td>\n",
       "      <td>5.2</td>\n",
       "      <td>5.20</td>\n",
       "      <td>0.0</td>\n",
       "      <td>0.0</td>\n",
       "      <td>1.0</td>\n",
       "      <td>5.20</td>\n",
       "      <td>0.0</td>\n",
       "      <td>P49840_1106</td>\n",
       "      <td>False</td>\n",
       "    </tr>\n",
       "    <tr>\n",
       "      <th>P49840_1107</th>\n",
       "      <td>ZZIXCHIEESZZDI_on_P49840_WT</td>\n",
       "      <td>High</td>\n",
       "      <td>Christmann2016</td>\n",
       "      <td>Christmann2016.compound.571</td>\n",
       "      <td>O=C(Nc1cccc(C2Nc3ccc4ccccc4c3C3C=CCC32)c1)c1cc...</td>\n",
       "      <td>ZZIXCHIEESZZDI</td>\n",
       "      <td>ZZIXCHIEESZZDI-UHFFFAOYSA-N</td>\n",
       "      <td>InChI=1S/C29H23FN2O/c30-21-14-11-19(12-15-21)2...</td>\n",
       "      <td>\"AuxInfo=1/1/N:14,15,25,21,13,24,26,16,20,22,2...</td>\n",
       "      <td>P49840_WT</td>\n",
       "      <td>...</td>\n",
       "      <td>=</td>\n",
       "      <td>5.7</td>\n",
       "      <td>5.70</td>\n",
       "      <td>0.0</td>\n",
       "      <td>0.0</td>\n",
       "      <td>1.0</td>\n",
       "      <td>5.70</td>\n",
       "      <td>0.0</td>\n",
       "      <td>P49840_1107</td>\n",
       "      <td>False</td>\n",
       "    </tr>\n",
       "    <tr>\n",
       "      <th>P49840_1108</th>\n",
       "      <td>ZZRDSHKJUCIYQL_on_P49840_WT</td>\n",
       "      <td>High</td>\n",
       "      <td>ChEMBL31</td>\n",
       "      <td>ChEMBL31.compound.185256</td>\n",
       "      <td>c1cc(-c2nn[nH]n2)ccc1CSc1nnc(-c2ccc3c(c2)OCO3)o1</td>\n",
       "      <td>ZZRDSHKJUCIYQL</td>\n",
       "      <td>ZZRDSHKJUCIYQL-UHFFFAOYSA-N</td>\n",
       "      <td>InChI=1S/C17H12N6O3S/c1-3-11(15-18-22-23-19-15...</td>\n",
       "      <td>\"AuxInfo=1/1/N:1,10,2,9,19,20,26,12,23,11,3,18...</td>\n",
       "      <td>P49840_WT</td>\n",
       "      <td>...</td>\n",
       "      <td>=</td>\n",
       "      <td>6.97</td>\n",
       "      <td>6.97</td>\n",
       "      <td>0.0</td>\n",
       "      <td>0.0</td>\n",
       "      <td>1.0</td>\n",
       "      <td>6.97</td>\n",
       "      <td>0.0</td>\n",
       "      <td>P49840_1108</td>\n",
       "      <td>True</td>\n",
       "    </tr>\n",
       "    <tr>\n",
       "      <th>P49840_1109</th>\n",
       "      <td>ZZSBPGIGIUFJRA_on_P49840_WT</td>\n",
       "      <td>High</td>\n",
       "      <td>Christmann2016</td>\n",
       "      <td>Christmann2016.compound.65</td>\n",
       "      <td>COC1C(N(C)C(=O)c2ccccc2)CC2OC1(C)n1c3ccccc3c3c...</td>\n",
       "      <td>ZZSBPGIGIUFJRA</td>\n",
       "      <td>ZZSBPGIGIUFJRA-UHFFFAOYSA-N</td>\n",
       "      <td>InChI=1S/C35H30N4O5/c1-35-31(43-3)23(37(2)34(4...</td>\n",
       "      <td>\"AuxInfo=1/1/N:19,6,1,12,11,13,35,24,34,25,10,...</td>\n",
       "      <td>P49840_WT</td>\n",
       "      <td>...</td>\n",
       "      <td>=</td>\n",
       "      <td>5.0</td>\n",
       "      <td>5.00</td>\n",
       "      <td>0.0</td>\n",
       "      <td>0.0</td>\n",
       "      <td>1.0</td>\n",
       "      <td>5.00</td>\n",
       "      <td>0.0</td>\n",
       "      <td>P49840_1109</td>\n",
       "      <td>True</td>\n",
       "    </tr>\n",
       "  </tbody>\n",
       "</table>\n",
       "<p>1110 rows × 34 columns</p>\n",
       "</div>"
      ],
      "text/plain": [
       "                             Activity_ID Quality          source  \\\n",
       "QSPRID                                                             \n",
       "P49840_0     AAMDUWSPNAKRLV_on_P49840_WT    High  Christmann2016   \n",
       "P49840_1     ACWKGTGIJRCOOM_on_P49840_WT    High        ChEMBL31   \n",
       "P49840_2     ADDQXEDWJOPRKR_on_P49840_WT    High  Christmann2016   \n",
       "P49840_3     AFZIRKJTSPMVSW_on_P49840_WT    High        ChEMBL31   \n",
       "P49840_4     AMQWJXRKJIUZAW_on_P49840_WT    High        ChEMBL31   \n",
       "...                                  ...     ...             ...   \n",
       "P49840_1105  ZYDQWWRARYHYHC_on_P49840_WT    High        ChEMBL31   \n",
       "P49840_1106  ZYTFPHRVOZXPGZ_on_P49840_WT    High  Christmann2016   \n",
       "P49840_1107  ZZIXCHIEESZZDI_on_P49840_WT    High  Christmann2016   \n",
       "P49840_1108  ZZRDSHKJUCIYQL_on_P49840_WT    High        ChEMBL31   \n",
       "P49840_1109  ZZSBPGIGIUFJRA_on_P49840_WT    High  Christmann2016   \n",
       "\n",
       "                                      CID  \\\n",
       "QSPRID                                      \n",
       "P49840_0      Christmann2016.compound.814   \n",
       "P49840_1         ChEMBL31.compound.398297   \n",
       "P49840_2     Christmann2016.compound.1070   \n",
       "P49840_3         ChEMBL31.compound.420064   \n",
       "P49840_4         ChEMBL31.compound.405770   \n",
       "...                                   ...   \n",
       "P49840_1105      ChEMBL31.compound.214071   \n",
       "P49840_1106   Christmann2016.compound.223   \n",
       "P49840_1107   Christmann2016.compound.571   \n",
       "P49840_1108      ChEMBL31.compound.185256   \n",
       "P49840_1109    Christmann2016.compound.65   \n",
       "\n",
       "                                                        SMILES  \\\n",
       "QSPRID                                                           \n",
       "P49840_0            NC(=O)c1ccc2nc(-c3ccc([N+]([O])=O)o3)cn2c1   \n",
       "P49840_1        COc1cc(F)ccc1-c1ncnc(Nc2cccc(CS(C)(=N)=O)c2)n1   \n",
       "P49840_2                CN(C)c1ccc(NC(=O)CC2Nc3ccccc3NC2=O)cc1   \n",
       "P49840_3     O=C(Nc1cc(-c2nc(Cc3ccccc3)[nH]c2-c2ccc(F)cc2)c...   \n",
       "P49840_4     Cc1ccc(-c2ccc(C=C3SC(N)=NC3=O)o2)c([N+](=O)[O-...   \n",
       "...                                                        ...   \n",
       "P49840_1105  COc1ccc(-c2ccc(CSc3nnc(-c4ccc5c(c4)OCCO5)o3)cc...   \n",
       "P49840_1106                 Cc1[nH]nc2ccc(-c3cncc(OCCN)c3)cc12   \n",
       "P49840_1107  O=C(Nc1cccc(C2Nc3ccc4ccccc4c3C3C=CCC32)c1)c1cc...   \n",
       "P49840_1108   c1cc(-c2nn[nH]n2)ccc1CSc1nnc(-c2ccc3c(c2)OCO3)o1   \n",
       "P49840_1109  COC1C(N(C)C(=O)c2ccccc2)CC2OC1(C)n1c3ccccc3c3c...   \n",
       "\n",
       "               connectivity                     InChIKey  \\\n",
       "QSPRID                                                     \n",
       "P49840_0     AAMDUWSPNAKRLV  AAMDUWSPNAKRLV-UHFFFAOYSA-N   \n",
       "P49840_1     ACWKGTGIJRCOOM  ACWKGTGIJRCOOM-UHFFFAOYSA-N   \n",
       "P49840_2     ADDQXEDWJOPRKR  ADDQXEDWJOPRKR-UHFFFAOYSA-N   \n",
       "P49840_3     AFZIRKJTSPMVSW  AFZIRKJTSPMVSW-UHFFFAOYSA-N   \n",
       "P49840_4     AMQWJXRKJIUZAW  AMQWJXRKJIUZAW-UHFFFAOYSA-N   \n",
       "...                     ...                          ...   \n",
       "P49840_1105  ZYDQWWRARYHYHC  ZYDQWWRARYHYHC-UHFFFAOYSA-N   \n",
       "P49840_1106  ZYTFPHRVOZXPGZ  ZYTFPHRVOZXPGZ-UHFFFAOYSA-N   \n",
       "P49840_1107  ZZIXCHIEESZZDI  ZZIXCHIEESZZDI-UHFFFAOYSA-N   \n",
       "P49840_1108  ZZRDSHKJUCIYQL  ZZRDSHKJUCIYQL-UHFFFAOYSA-N   \n",
       "P49840_1109  ZZSBPGIGIUFJRA  ZZSBPGIGIUFJRA-UHFFFAOYSA-N   \n",
       "\n",
       "                                                         InChI  \\\n",
       "QSPRID                                                           \n",
       "P49840_0     InChI=1S/C12H8N4O4/c13-12(17)7-1-3-10-14-8(6-1...   \n",
       "P49840_1     InChI=1S/C18H18FN5O2S/c1-26-16-9-13(19)6-7-15(...   \n",
       "P49840_2     InChI=1S/C18H20N4O2/c1-22(2)13-9-7-12(8-10-13)...   \n",
       "P49840_3     InChI=1S/C25H21FN4O/c26-20-10-8-17(9-11-20)23-...   \n",
       "P49840_4     InChI=1S/C15H11N3O4S/c1-8-2-4-10(11(6-8)18(20)...   \n",
       "...                                                        ...   \n",
       "P49840_1105  InChI=1S/C24H20N2O4S/c1-27-20-9-6-18(7-10-20)1...   \n",
       "P49840_1106  InChI=1S/C15H16N4O/c1-10-14-7-11(2-3-15(14)19-...   \n",
       "P49840_1107  InChI=1S/C29H23FN2O/c30-21-14-11-19(12-15-21)2...   \n",
       "P49840_1108  InChI=1S/C17H12N6O3S/c1-3-11(15-18-22-23-19-15...   \n",
       "P49840_1109  InChI=1S/C35H30N4O5/c1-35-31(43-3)23(37(2)34(4...   \n",
       "\n",
       "                                                 InChI_AuxInfo  target_id  \\\n",
       "QSPRID                                                                      \n",
       "P49840_0     \"AuxInfo=1/1/N:20,10,19,11,5,7,4,8,9,18,12,2,1...  P49840_WT   \n",
       "P49840_1     \"AuxInfo=1/1/N:1,23,18,19,17,7,8,26,4,21,12,20...  P49840_WT   \n",
       "P49840_2     \"AuxInfo=1/1/N:1,3,18,17,19,16,6,23,5,24,11,7,...  P49840_WT   \n",
       "P49840_3     \"AuxInfo=1/1/N:22,21,23,20,24,30,31,10,15,11,1...  P49840_WT   \n",
       "P49840_4     \"AuxInfo=1/1/N:1,3,8,4,7,23,10,2,9,5,19,6,11,1...  P49840_WT   \n",
       "...                                                        ...        ...   \n",
       "P49840_1105  \"AuxInfo=1/0/N:1,9,28,8,29,5,30,18,4,31,19,22,...  P49840_WT   \n",
       "P49840_1106  \"AuxInfo=1/1/N:1,16,17,11,10,7,4,15,13,2,5,6,8...  P49840_WT   \n",
       "P49840_1107  \"AuxInfo=1/1/N:14,15,25,21,13,24,26,16,20,22,2...  P49840_WT   \n",
       "P49840_1108  \"AuxInfo=1/1/N:1,10,2,9,19,20,26,12,23,11,3,18...  P49840_WT   \n",
       "P49840_1109  \"AuxInfo=1/1/N:19,6,1,12,11,13,35,24,34,25,10,...  P49840_WT   \n",
       "\n",
       "             ... relation pchembl_value pchembl_value_Mean  \\\n",
       "QSPRID       ...                                             \n",
       "P49840_0     ...        =         6.000               6.00   \n",
       "P49840_1     ...        =         7.350               7.35   \n",
       "P49840_2     ...        =         5.400               5.40   \n",
       "P49840_3     ...        =         6.370               6.37   \n",
       "P49840_4     ...        =         6.790               6.79   \n",
       "...          ...      ...           ...                ...   \n",
       "P49840_1105  ...        =          7.72               7.72   \n",
       "P49840_1106  ...        =           5.2               5.20   \n",
       "P49840_1107  ...        =           5.7               5.70   \n",
       "P49840_1108  ...        =          6.97               6.97   \n",
       "P49840_1109  ...        =           5.0               5.00   \n",
       "\n",
       "            pchembl_value_StdDev pchembl_value_SEM  pchembl_value_N  \\\n",
       "QSPRID                                                                \n",
       "P49840_0                     0.0               0.0              1.0   \n",
       "P49840_1                     0.0               0.0              1.0   \n",
       "P49840_2                     0.0               0.0              1.0   \n",
       "P49840_3                     0.0               0.0              1.0   \n",
       "P49840_4                     0.0               0.0              1.0   \n",
       "...                          ...               ...              ...   \n",
       "P49840_1105                  0.0               0.0              1.0   \n",
       "P49840_1106                  0.0               0.0              1.0   \n",
       "P49840_1107                  0.0               0.0              1.0   \n",
       "P49840_1108                  0.0               0.0              1.0   \n",
       "P49840_1109                  0.0               0.0              1.0   \n",
       "\n",
       "            pchembl_value_Median pchembl_value_MAD       QSPRID Split_IsTrain  \n",
       "QSPRID                                                                         \n",
       "P49840_0                    6.00               0.0     P49840_0          True  \n",
       "P49840_1                    7.35               0.0     P49840_1         False  \n",
       "P49840_2                    5.40               0.0     P49840_2         False  \n",
       "P49840_3                    6.37               0.0     P49840_3          True  \n",
       "P49840_4                    6.79               0.0     P49840_4          True  \n",
       "...                          ...               ...          ...           ...  \n",
       "P49840_1105                 7.72               0.0  P49840_1105          True  \n",
       "P49840_1106                 5.20               0.0  P49840_1106         False  \n",
       "P49840_1107                 5.70               0.0  P49840_1107         False  \n",
       "P49840_1108                 6.97               0.0  P49840_1108          True  \n",
       "P49840_1109                 5.00               0.0  P49840_1109          True  \n",
       "\n",
       "[1110 rows x 34 columns]"
      ]
     },
     "execution_count": 1,
     "metadata": {},
     "output_type": "execute_result"
    }
   ],
   "source": [
    "# read in all data\n",
    "import pandas as pd\n",
    "df = pd.read_csv('data/papyrus_data.tsv', sep='\\t')\n",
    "\n",
    "# filter data for target of interest\n",
    "MY_TARGET = 'P49840' # REPLACE WITH YOUR TARGET ACCESSION\n",
    "\n",
    "df = df[df['accession'] == MY_TARGET]\n",
    "\n",
    "# keep only high quality data\n",
    "df = df[df['Quality'] == 'High']\n",
    "\n",
    "# Create molecule table for visualization\n",
    "from qsprpred.data.data import MoleculeTable\n",
    "\n",
    "mt = MoleculeTable(df=df, name=MY_TARGET)\n",
    "\n",
    "mt.getDF()"
   ]
  },
  {
   "attachments": {},
   "cell_type": "markdown",
   "metadata": {},
   "source": [
    "## Preparing data for modelling"
   ]
  },
  {
   "cell_type": "code",
   "execution_count": 2,
   "metadata": {},
   "outputs": [
    {
     "name": "stderr",
     "output_type": "stream",
     "text": [
      "c:\\Users\\helle\\anaconda3\\envs\\ulla2023\\Lib\\site-packages\\qsprpred\\data\\data.py:552: UserWarning: Existing data set found, but also found a data frame in store. Refusing to overwrite data. If you want to overwrite data in store, set overwrite=True.\n",
      "  super().__init__(name, df, store_dir, overwrite, index_cols, n_jobs, chunk_size)\n"
     ]
    },
    {
     "data": {
      "text/plain": [
       "[TargetProperty(name=pchembl_value_Median, task=REGRESSION)]"
      ]
     },
     "execution_count": 2,
     "metadata": {},
     "output_type": "execute_result"
    }
   ],
   "source": [
    "from qsprpred.models.tasks import TargetTasks\n",
    "from qsprpred.data.data import QSPRDataset\n",
    "\n",
    "target_props=[{\n",
    "                \"name\": \"pchembl_value_Median\", # name of the target column in the dataset\n",
    "                \"task\": TargetTasks.REGRESSION, # specify the task type (SINGLECLASS, MULTICLASS, REGRESSION)\n",
    "                }]\n",
    "\n",
    "# Create a QSPRDataset instance used for training and evaluation of QSPR models\n",
    "dataset = QSPRDataset.fromMolTable(mt, target_props=target_props)\n",
    "dataset.targetProperties"
   ]
  },
  {
   "attachments": {},
   "cell_type": "markdown",
   "metadata": {},
   "source": [
    "![descriptors](figures/descriptors_small.png)"
   ]
  },
  {
   "cell_type": "code",
   "execution_count": 3,
   "metadata": {},
   "outputs": [
    {
     "name": "stderr",
     "output_type": "stream",
     "text": [
      "Molecular descriptors already exist in P49840. Use `recalculate=True` to overwrite them.\n",
      "Missing values filled with nan\n"
     ]
    },
    {
     "name": "stdout",
     "output_type": "stream",
     "text": [
      "Number of samples train set: 888\n",
      "Number of samples test set: 222\n"
     ]
    }
   ],
   "source": [
    "from qsprpred.data.utils.descriptorsets import FingerprintSet\n",
    "from qsprpred.data.utils.descriptorcalculator import MoleculeDescriptorsCalculator\n",
    "from sklearn.preprocessing import StandardScaler as Scaler\n",
    "from qsprpred.data.utils.datasplitters import RandomSplit\n",
    "\n",
    "# Calculate MorganFP and physicochemical properties\n",
    "feature_calculator = MoleculeDescriptorsCalculator(desc_sets = [FingerprintSet(fingerprint_type=\"MorganFP\", radius=3, nBits=2048)])\n",
    "\n",
    "# Do a random split for creating the train (80%) and test set (20%)\n",
    "rand_split = RandomSplit(0.2)\n",
    "\n",
    "# calculate compound features and split dataset into train and test\n",
    "dataset.prepareDataset(\n",
    "    split=rand_split,\n",
    "    feature_calculators=[feature_calculator],\n",
    "    feature_standardizer=Scaler()\n",
    ")\n",
    "\n",
    "print(f\"Number of samples train set: {len(dataset.y)}\")\n",
    "print(f\"Number of samples test set: {len(dataset.y_ind)}\")\n",
    "\n",
    "# Let's save the dataset for later\n",
    "dataset.save()"
   ]
  },
  {
   "attachments": {},
   "cell_type": "markdown",
   "metadata": {},
   "source": [
    "# Data Visualization"
   ]
  },
  {
   "cell_type": "code",
   "execution_count": 4,
   "metadata": {},
   "outputs": [
    {
     "data": {
      "text/plain": [
       "<Axes: xlabel='pchembl_value_Median', ylabel='Count'>"
      ]
     },
     "execution_count": 4,
     "metadata": {},
     "output_type": "execute_result"
    },
    {
     "data": {
      "image/png": "[encoded data removed]",
      "text/plain": [
       "<Figure size 640x480 with 1 Axes>"
      ]
     },
     "metadata": {},
     "output_type": "display_data"
    }
   ],
   "source": [
    "# create histogram of pchembl values in the dataset\n",
    "import seaborn as sns\n",
    "sns.histplot(dataset.getDF()['pchembl_value_Median'], bins=20)"
   ]
  },
  {
   "cell_type": "code",
   "execution_count": 5,
   "metadata": {},
   "outputs": [
    {
     "data": {
      "text/html": [
       "\n",
       "        <iframe\n",
       "            width=\"100%\"\n",
       "            height=\"650\"\n",
       "            src=\"http://127.0.0.1:9292/\"\n",
       "            frameborder=\"0\"\n",
       "            allowfullscreen\n",
       "            \n",
       "        ></iframe>\n",
       "        "
      ],
      "text/plain": [
       "<IPython.lib.display.IFrame at 0x1c8c06155d0>"
      ]
     },
     "metadata": {},
     "output_type": "display_data"
    },
    {
     "data": {
      "text/html": [
       "\n",
       "        <iframe\n",
       "            width=\"100%\"\n",
       "            height=\"100%\"\n",
       "            src=\"http://127.0.0.1:9292/\"\n",
       "            frameborder=\"0\"\n",
       "            allowfullscreen\n",
       "            \n",
       "        ></iframe>\n",
       "        "
      ],
      "text/plain": [
       "<IPython.lib.display.IFrame at 0x1c8c0840650>"
      ]
     },
     "metadata": {},
     "output_type": "display_data"
    },
    {
     "data": {
      "text/html": [
       "\n",
       "        <iframe\n",
       "            width=\"100%\"\n",
       "            height=\"650\"\n",
       "            src=\"http://127.0.0.1:9293/\"\n",
       "            frameborder=\"0\"\n",
       "            allowfullscreen\n",
       "            \n",
       "        ></iframe>\n",
       "        "
      ],
      "text/plain": [
       "<IPython.lib.display.IFrame at 0x1c8bd3f7d10>"
      ]
     },
     "metadata": {},
     "output_type": "display_data"
    },
    {
     "data": {
      "text/html": [
       "\n",
       "        <iframe\n",
       "            width=\"100%\"\n",
       "            height=\"100%\"\n",
       "            src=\"http://127.0.0.1:9293/\"\n",
       "            frameborder=\"0\"\n",
       "            allowfullscreen\n",
       "            \n",
       "        ></iframe>\n",
       "        "
      ],
      "text/plain": [
       "<IPython.lib.display.IFrame at 0x1c8c1ae8090>"
      ]
     },
     "metadata": {},
     "output_type": "display_data"
    },
    {
     "name": "stdout",
     "output_type": "stream",
     "text": [
      "Done!\n"
     ]
    }
   ],
   "source": [
    "from scaffviz.clustering.manifold import TSNE\n",
    "from qsprpred.data.utils.scaffolds import Murcko, BemisMurcko\n",
    "from scaffviz.depiction.plot import Plot\n",
    "\n",
    "dataset.addScaffolds([Murcko()])\n",
    "\n",
    "plt = Plot(TSNE())\n",
    "plt.plot(dataset,\n",
    "         recalculate=False,\n",
    "         mols_per_scaffold_group=5,\n",
    "         port=9292, # if you want to re-run this cell, you need to change this port number\n",
    "         interactive=True)\n",
    "         \n",
    "plt.plot(dataset,\n",
    "         recalculate=False,\n",
    "         mols_per_scaffold_group=5,\n",
    "         port=9293, # if you want to re-run this cell, you need to change this port number\n",
    "         interactive=True,\n",
    "         color_by='pchembl_value_Median')"
   ]
  },
  {
   "attachments": {},
   "cell_type": "markdown",
   "metadata": {},
   "source": [
    "# Training a ML model"
   ]
  },
  {
   "cell_type": "code",
   "execution_count": 6,
   "metadata": {},
   "outputs": [],
   "source": [
    "N_CPU = 4 # number of CPUs for parallel operations"
   ]
  },
  {
   "cell_type": "code",
   "execution_count": 7,
   "metadata": {},
   "outputs": [
    {
     "name": "stderr",
     "output_type": "stream",
     "text": [
      "[I 2023-06-27 16:06:44,171] A new study created in memory with name: no-name-2a97fcf8-466e-4789-9474-41dac7a5a5b3\n",
      "[I 2023-06-27 16:06:45,222] Trial 0 finished with value: 0.28286031243205123 and parameters: {'n_components': 15, 'scale': True}. Best is trial 0 with value: 0.28286031243205123.\n",
      "[I 2023-06-27 16:06:46,533] Trial 1 finished with value: 0.25740196706465335 and parameters: {'n_components': 21, 'scale': False}. Best is trial 0 with value: 0.28286031243205123.\n",
      "[I 2023-06-27 16:06:47,210] Trial 2 finished with value: 0.3528298759252535 and parameters: {'n_components': 7, 'scale': True}. Best is trial 2 with value: 0.3528298759252535.\n",
      "[I 2023-06-27 16:06:47,878] Trial 3 finished with value: 0.4005077908159176 and parameters: {'n_components': 5, 'scale': False}. Best is trial 3 with value: 0.4005077908159176.\n",
      "[I 2023-06-27 16:06:48,483] Trial 4 finished with value: 0.4005077878776341 and parameters: {'n_components': 5, 'scale': True}. Best is trial 3 with value: 0.4005077908159176.\n"
     ]
    },
    {
     "data": {
      "text/plain": [
       "'./qspr/models/PLS_REG/PLS_REG_meta.json'"
      ]
     },
     "execution_count": 7,
     "metadata": {},
     "output_type": "execute_result"
    }
   ],
   "source": [
    "from qsprpred.models.models import QSPRsklearn\n",
    "from sklearn.cross_decomposition import PLSRegression\n",
    "from qsprpred.models.hyperparam_optimization import OptunaOptimization\n",
    "\n",
    "# This is an SKlearn model, so we will initialize it with the QSPRsklearn class\n",
    "model = QSPRsklearn(base_dir = '.', data=dataset, alg = PLSRegression, name='PLS_REG')\n",
    "\n",
    "# We will first optimize the hyperparameters (n_components and scale) through bayes optimization\n",
    "# the best hyperparameter combination will be saved in PLS_REG_params.json\n",
    "search_space_bs = {\"n_components\": [\"int\", 1, 30], \"scale\": [\"categorical\", [True, False]]}\n",
    "bayesoptimizer = OptunaOptimization(scoring = model.scoreFunc, param_grid=search_space_bs, n_trials=5)\n",
    "best_params = bayesoptimizer.optimize(model)\n",
    "\n",
    "#Then we will evaluate the performance of the best model using the independent test set\n",
    "_ = model.evaluate()\n",
    "\n",
    "# Finally, we need to fit the model on the complete dataset if we want to use it further\n",
    "# model is saved under qspr/models/PLS_REG.json\n",
    "model.fit()"
   ]
  },
  {
   "cell_type": "code",
   "execution_count": 8,
   "metadata": {},
   "outputs": [
    {
     "name": "stdout",
     "output_type": "stream",
     "text": [
      "  ModelName        R2      RMSE  Set\n",
      "0   PLS_REG  0.461997  0.741112   cv\n",
      "1   PLS_REG  0.400039  0.771268  ind\n"
     ]
    },
    {
     "data": {
      "image/png": "[encoded data removed]",
      "text/plain": [
       "<Figure size 500x500 with 1 Axes>"
      ]
     },
     "metadata": {},
     "output_type": "display_data"
    }
   ],
   "source": [
    "from qsprpred.plotting.regression import CorrelationPlot\n",
    "\n",
    "plt = CorrelationPlot([model])\n",
    "axes, summary = plt.make(save=False, property_name='pchembl_value_Median')\n",
    "axes[0]\n",
    "\n",
    "print(summary)"
   ]
  },
  {
   "cell_type": "code",
   "execution_count": 9,
   "metadata": {},
   "outputs": [
    {
     "data": {
      "text/html": [
       "\n",
       "        <iframe\n",
       "            width=\"100%\"\n",
       "            height=\"650\"\n",
       "            src=\"http://127.0.0.1:9200/\"\n",
       "            frameborder=\"0\"\n",
       "            allowfullscreen\n",
       "            \n",
       "        ></iframe>\n",
       "        "
      ],
      "text/plain": [
       "<IPython.lib.display.IFrame at 0x1c8c2f3c9d0>"
      ]
     },
     "metadata": {},
     "output_type": "display_data"
    },
    {
     "data": {
      "text/html": [
       "\n",
       "        <iframe\n",
       "            width=\"100%\"\n",
       "            height=\"100%\"\n",
       "            src=\"http://127.0.0.1:9200/\"\n",
       "            frameborder=\"0\"\n",
       "            allowfullscreen\n",
       "            \n",
       "        ></iframe>\n",
       "        "
      ],
      "text/plain": [
       "<IPython.lib.display.IFrame at 0x1c8c2f3dbd0>"
      ]
     },
     "metadata": {},
     "output_type": "display_data"
    },
    {
     "data": {
      "text/plain": [
       "{9200: {'model': <qsprpred.models.models.QSPRsklearn at 0x1c8970a6010>,\n",
       "  'server': <function scaffviz.depiction.plot.ModelPerformancePlot.make.<locals>.plot_server.<locals>.run()>,\n",
       "  'plot_type': 'errors',\n",
       "  'table': <qsprpred.data.data.MoleculeTable at 0x1c8c2e47ed0>,\n",
       "  'plot': <scaffviz.depiction.plot.Plot at 0x1c8c2e1f710>,\n",
       "  'thread': <Thread(Thread-41 (run), stopped 11164)>}}"
      ]
     },
     "execution_count": 9,
     "metadata": {},
     "output_type": "execute_result"
    }
   ],
   "source": [
    "from scaffviz.depiction.plot import ModelPerformancePlot\n",
    "from scaffviz.clustering.manifold import TSNE\n",
    "\n",
    "plot = ModelPerformancePlot(\n",
    "    TSNE(), # use t-SNE for dimensionality reduction, does not recalculate if already done before on a data set\n",
    "    [model], # list of models to show the plot for\n",
    "    plot_type=\"errors\", # type of the plot\n",
    "    ports=[9200] # ports on localhost to use for each model performance plot (one for each model, must be unique)\n",
    ")\n",
    "\n",
    "plot.make()"
   ]
  },
  {
   "attachments": {},
   "cell_type": "markdown",
   "metadata": {},
   "source": [
    "# Make predictions for your own compounds"
   ]
  },
  {
   "cell_type": "code",
   "execution_count": 20,
   "metadata": {},
   "outputs": [
    {
     "name": "stderr",
     "output_type": "stream",
     "text": [
      "Missing values filled with nan\n"
     ]
    },
    {
     "data": {
      "image/png": "[encoded data removed]",
      "text/plain": [
       "<PIL.PngImagePlugin.PngImageFile image mode=RGB size=800x200>"
      ]
     },
     "execution_count": 20,
     "metadata": {},
     "output_type": "execute_result"
    }
   ],
   "source": [
    "# replace with your own compounds\n",
    "list_of_smiles = ['OCCc1ccn2cnccc12',\n",
    "                  'C1CC1Oc1cc2ccncn2c1',\n",
    "                  'CNC(=O)c1nccc2cccn12']\n",
    "\n",
    "# make predictions with the model\n",
    "predictions = model.predictMols(list_of_smiles)\n",
    "\n",
    "# show molecules with predicted values using rdkit\n",
    "from rdkit import Chem\n",
    "from rdkit.Chem import Draw\n",
    " \n",
    "mols = [Chem.MolFromSmiles(smi) for smi in list_of_smiles]\n",
    "Draw.MolsToGridImage(mols, molsPerRow=4, subImgSize=(200, 200), legends=[f'{pred[0]:.3f}' for pred in predictions])"
   ]
  }
 ],
 "metadata": {
  "kernelspec": {
   "display_name": "ulla2023",
   "language": "python",
   "name": "python3"
  },
  "language_info": {
   "codemirror_mode": {
    "name": "ipython",
    "version": 3
   },
   "file_extension": ".py",
   "mimetype": "text/x-python",
   "name": "python",
   "nbconvert_exporter": "python",
   "pygments_lexer": "ipython3",
   "version": "3.11.3"
  },
  "orig_nbformat": 4
 },
 "nbformat": 4,
 "nbformat_minor": 2
}
